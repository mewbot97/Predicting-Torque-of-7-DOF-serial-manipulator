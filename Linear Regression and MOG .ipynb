{
 "cells": [
  {
   "cell_type": "markdown",
   "id": "336ddf43-7a51-4942-88b1-fbef05d440a8",
   "metadata": {},
   "source": [
    "# CSME2 Bonus Point Assignment 1\n",
    "\n",
    "<div style=\"text-align: right;font-size: 0.8em\">Document Version 1.0.2, released 04/12/2021</div>\n",
    "For detailed task instructions, please refer to the assignment PDF.\n",
    "\n",
    "DO NOT CLEAR THE OUTPUT of the notebook you are submitting!"
   ]
  },
  {
   "cell_type": "code",
   "execution_count": 1,
   "id": "55262e5f-2f40-4108-9138-7a526f6fa4c0",
   "metadata": {},
   "outputs": [],
   "source": [
    "# Add any additional import you need in this cell\n",
    "import numpy as np\n",
    "import matplotlib.pyplot as plt\n",
    "import numpy.linalg as la\n",
    "import itertools\n",
    "from scipy.io import loadmat\n",
    "from sklearn.cluster import kmeans_plusplus, KMeans\n",
    "\n",
    "np.random.seed(1234)"
   ]
  },
  {
   "cell_type": "markdown",
   "id": "e16807c6-9b2d-479f-a48c-61fd2cc82796",
   "metadata": {},
   "source": [
    "### Setup\n",
    "__Task A.1__ Load the data into the following numpy arrays. For the output, only use the first torque variable.\n",
    "Randomly split the data from the file ```sarcos_inv.mat``` into a training set (80%) and a validation set (20%)."
   ]
  },
  {
   "cell_type": "code",
   "execution_count": 2,
   "id": "c91bf5d1-90f6-4f61-a681-1242f3f81364",
   "metadata": {},
   "outputs": [],
   "source": [
    "# Input and output training data\n",
    "sarcos_mat = loadmat('sarcos_inv.mat')\n",
    "sarcos = sarcos_mat['sarcos_inv']\n",
    "\n",
    "#shuffle dataset before splitting\n",
    "np.random.shuffle(sarcos)\n",
    "n = sarcos.shape[0] #number of rows\n",
    "xs_train = sarcos[:int(0.8*n),0:21]\n",
    "ys_train = sarcos[:int(0.8*n),21:22]\n",
    "\n",
    "# Input and output validation data\n",
    "xs_valid = sarcos[int(0.8*n):,0:21]\n",
    "ys_valid = sarcos[int(0.8*n):,21:22]\n",
    "\n",
    "# Input and output test data\n",
    "sarcos_test_mat = loadmat('sarcos_inv_test.mat')\n",
    "sarcos_test = sarcos_test_mat['sarcos_inv_test']\n",
    "xs_test = sarcos_test[:,0:21]\n",
    "ys_test = sarcos_test[:,21:22]"
   ]
  },
  {
   "cell_type": "code",
   "execution_count": 3,
   "id": "432e41e8-7fa4-4d0a-a3b2-0c6881c7dbf8",
   "metadata": {},
   "outputs": [
    {
     "name": "stdout",
     "output_type": "stream",
     "text": [
      "(35587, 21)\n",
      "(35587, 1)\n",
      "(8897, 21)\n",
      "(8897, 1)\n",
      "(4449, 21)\n",
      "(4449, 1)\n"
     ]
    }
   ],
   "source": [
    "# Check for yourself \n",
    "# The following should lead (roughly) to output \n",
    "# (35587, 21)\n",
    "# (35587, 1)\n",
    "# (8897, 21)\n",
    "# (8897, 1)\n",
    "# (4449, 21)\n",
    "# (4449, 1)\n",
    "\n",
    "print(xs_train.shape)\n",
    "print(ys_train.shape)\n",
    "print(xs_valid.shape)\n",
    "print(ys_valid.shape)\n",
    "print(xs_test.shape)\n",
    "print(ys_test.shape)"
   ]
  },
  {
   "cell_type": "markdown",
   "id": "1cd20cae-ee79-4a62-84ca-a1e73b10cd33",
   "metadata": {},
   "source": [
    "__Task A.2__ Standardize the data such that\n",
    "1. Training inputs have mean 0\n",
    "2. Each training input variable has variance 1\n",
    "3. The training outputs have mean 0\n",
    "4. Apply the same transformation to the validation and test data\n",
    "\n",
    "Implement this manually, i.e., do not use a ready scaler like the one provided by scikit-learn."
   ]
  },
  {
   "cell_type": "code",
   "execution_count": 4,
   "id": "5c152c5c-c06b-4d99-8950-750bbcffabda",
   "metadata": {},
   "outputs": [],
   "source": [
    "# Store the standardized data in the following variables\n",
    "xs_train_std = (xs_train - np.mean(xs_train, axis=0)) / np.std(xs_train, axis=0)\n",
    "ys_train_std = (ys_train - np.mean(ys_train, axis=0)) / np.std(ys_train, axis=0)\n",
    "\n",
    "xs_valid_std = (xs_valid - np.mean(xs_valid, axis=0)) / np.std(xs_valid, axis=0)\n",
    "ys_valid_std = (ys_valid - np.mean(ys_valid, axis=0)) / np.std(ys_valid, axis=0)\n",
    "\n",
    "xs_test_std = (xs_test - np.mean(xs_test, axis=0)) / np.std(xs_test, axis=0)\n",
    "ys_test_std = (ys_test - np.mean(ys_test, axis=0)) / np.std(ys_test, axis=0)"
   ]
  },
  {
   "cell_type": "code",
   "execution_count": 5,
   "id": "28875927-bb84-4b91-a451-3aafb42bdcc9",
   "metadata": {},
   "outputs": [
    {
     "name": "stdout",
     "output_type": "stream",
     "text": [
      "1.7988736604700613e-17\n",
      "5.450815378157961e-17\n",
      "2.1639119481018053e-17\n",
      "-9.583581914264586e-17\n",
      "-2.7264507890483246e-17\n",
      "-2.5553346307398523e-17\n",
      "[1. 1. 1. 1. 1. 1. 1. 1. 1. 1. 1. 1. 1. 1. 1. 1. 1. 1. 1. 1. 1.]\n",
      "[1. 1. 1. 1. 1. 1. 1. 1. 1. 1. 1. 1. 1. 1. 1. 1. 1. 1. 1. 1. 1.]\n",
      "[1. 1. 1. 1. 1. 1. 1. 1. 1. 1. 1. 1. 1. 1. 1. 1. 1. 1. 1. 1. 1.]\n"
     ]
    }
   ],
   "source": [
    "# Check for yourself\n",
    "# The following should lead to (roughly) six zeros and three arrays with (approximately) ones\n",
    "print(np.mean(xs_train_std))\n",
    "print(np.mean(ys_train_std))\n",
    "print(np.mean(xs_valid_std))\n",
    "print(np.mean(ys_valid_std))\n",
    "print(np.mean(xs_test_std))\n",
    "print(np.mean(ys_test_std))\n",
    "\n",
    "print(np.var(xs_train_std, axis=0))\n",
    "print(np.var(xs_valid_std, axis=0))\n",
    "print(np.var(xs_test_std, axis=0))"
   ]
  },
  {
   "cell_type": "markdown",
   "id": "92e51315-ee86-43b6-ba6d-f869d19e1e90",
   "metadata": {},
   "source": [
    "__Task A.3__"
   ]
  },
  {
   "cell_type": "code",
   "execution_count": 6,
   "id": "42b3ac19-e652-4a78-8cb7-f030c466144a",
   "metadata": {},
   "outputs": [],
   "source": [
    "# Task A.3.a\n",
    "# Implement a function estimating the variance\n",
    "def my_variance(xs):\n",
    "    \"\"\"Calculate the empirical variance of a given vector of scalars\n",
    "    \n",
    "    Arguments\n",
    "    xs      1d numpy array\n",
    "    \n",
    "    Returns\n",
    "    The empirical variance of the provided vector\n",
    "    \"\"\"\n",
    "    # Your implementation\n",
    "    N = xs.shape[0]\n",
    "    var = 0\n",
    "    for i in xs:\n",
    "        var = var + (i - np.mean(xs))**2/(N-1)\n",
    "    return var"
   ]
  },
  {
   "cell_type": "code",
   "execution_count": 7,
   "id": "c3348e0c-6799-464a-9939-159dfd0e5a31",
   "metadata": {},
   "outputs": [
    {
     "name": "stdout",
     "output_type": "stream",
     "text": [
      "[1.0000281]\n"
     ]
    }
   ],
   "source": [
    "# Task A.3.b\n",
    "# Calculate the variance of ys_train_std using your function my_variance\n",
    "var_ys_train = my_variance(ys_train_std)\n",
    "print(var_ys_train)"
   ]
  },
  {
   "cell_type": "code",
   "execution_count": 8,
   "id": "ad11e721-414a-4944-bd78-9e7b9c8163c3",
   "metadata": {},
   "outputs": [],
   "source": [
    "# Task A.3.c\n",
    "# Implement a function calculating the SMSE between two 1d numpy arrays given a normalizing factor\n",
    "def my_smse(z1, z2, s):\n",
    "    \"\"\"Calculate the Standardized Mean Squared Error (SMSE)\n",
    "    \n",
    "    Arguments\n",
    "    z1      1d numpy array (usually the predictions)\n",
    "    z2      1d numpy array \n",
    "    s       Normalization factor \n",
    "    \n",
    "    Returns\n",
    "    The SMSE of the provided data\n",
    "    \"\"\"\n",
    "    # Your implementation\n",
    "    N =len(z1)\n",
    "    SMSE = 0\n",
    "    for i in range(0,N):\n",
    "        SMSE = SMSE + (z1[i]-z2[i])**2\n",
    "    SMSE = SMSE/(N*s)\n",
    "    return(SMSE)"
   ]
  },
  {
   "cell_type": "markdown",
   "id": "ef4f8d54-4e5d-4706-81dc-50e5902d83db",
   "metadata": {
    "tags": []
   },
   "source": [
    "## Linear regression\n",
    "### Simple linear regression\n",
    "__Task A.4__"
   ]
  },
  {
   "cell_type": "code",
   "execution_count": 9,
   "id": "2a9334e8-04c3-4b0b-aa79-ac3888b9ab59",
   "metadata": {},
   "outputs": [
    {
     "name": "stdout",
     "output_type": "stream",
     "text": [
      "[0.07107779]\n"
     ]
    }
   ],
   "source": [
    "# This variable should contain the weights corresponding to simple linear regression (LS criterion, no bias term)\n",
    "Phi = xs_train_std\n",
    "w_lr = la.solve(Phi.T @ Phi, Phi.T @ ys_train_std)\n",
    "# This variable should contain the predictions using w_lr on the validation data\n",
    "ys_pred_valid = xs_valid_std @ w_lr\n",
    "# This should contain the resulting smse\n",
    "smse_lr = my_smse(ys_pred_valid, ys_valid_std, var_ys_train)\n",
    "print(smse_lr)"
   ]
  },
  {
   "cell_type": "markdown",
   "id": "126a7728-c157-484a-8c19-737487f7dade",
   "metadata": {},
   "source": [
    "### Linear regression with polynomial features\n",
    "__Task A.5__"
   ]
  },
  {
   "cell_type": "code",
   "execution_count": 10,
   "id": "410e12b5-a083-4cdf-8801-c122eb597bb8",
   "metadata": {},
   "outputs": [],
   "source": [
    "def my_poly_features(X, degree):\n",
    "\n",
    "    # Your implementation\n",
    "    N = X.shape[0]\n",
    "    D = X.shape[1]\n",
    "    poly = np.ones((N,1))\n",
    "    d_array = list(range(D))\n",
    "    indices = []\n",
    "    \n",
    "    for i in range(1,degree+1):\n",
    "        comb = list(itertools.combinations_with_replacement(d_array, i))\n",
    "        indices.append(comb)\n",
    "    indices =  [item for sublist in indices for item in sublist]\n",
    "    for i in indices:\n",
    "        poly_j = np.ones((N,1))\n",
    "        for j in i:\n",
    "            xs_current = X[:,j].reshape(N,1)\n",
    "            poly_j = xs_current*poly_j\n",
    "        poly = np.hstack((poly,poly_j))\n",
    "    return poly\n",
    "#my_poly_features(np.array([[1,2,3],[4,5,6]]), 2)"
   ]
  },
  {
   "cell_type": "code",
   "execution_count": 11,
   "id": "88f1db66-1d17-425b-99dd-525e80112ca6",
   "metadata": {},
   "outputs": [
    {
     "name": "stdout",
     "output_type": "stream",
     "text": [
      "smse_poly2 :  [0.03276695]\n",
      "smse_poly3 :  [0.01600717]\n"
     ]
    }
   ],
   "source": [
    "\n",
    "# Tasks A.5.b\n",
    "# This variable should contain the weights corresponding to linear regression using polynomial features up to degree 2 and 3\n",
    "Phi2 = my_poly_features(xs_train_std,2)\n",
    "w_poly2 = la.solve(Phi2.T @ Phi2, Phi2.T @ ys_train_std)\n",
    "ys_pred_poly2_valid = my_poly_features(xs_valid_std,2) @ w_poly2\n",
    "smse_poly2 = my_smse(ys_pred_poly2_valid, ys_valid_std, var_ys_train)\n",
    "print(\"smse_poly2 : \",smse_poly2)\n",
    "\n",
    "# This variable should contain the predictions using w_poly2 and w_poly3 on the validation data\n",
    "Phi3 = my_poly_features(xs_train_std,3)\n",
    "w_poly3 = la.solve(Phi3.T @ Phi3, Phi3.T @ ys_train_std)\n",
    "ys_pred_poly3_valid = my_poly_features(xs_valid_std,3) @ w_poly3\n",
    "smse_poly3 = my_smse(ys_pred_poly3_valid, ys_valid_std, var_ys_train)\n",
    "print(\"smse_poly3 : \",smse_poly3)\n",
    "\n"
   ]
  },
  {
   "cell_type": "markdown",
   "id": "951d9707-89e6-451b-ac2d-8423845ab019",
   "metadata": {},
   "source": [
    "## Clustering\n",
    "__Task B.1__ Implement the basic $K$-Means algorithm."
   ]
  },
  {
   "cell_type": "code",
   "execution_count": 12,
   "id": "91c523b8-f2ed-41df-9dbb-afd254102f8a",
   "metadata": {},
   "outputs": [],
   "source": [
    "def my_kmeans(xs, init_centers, n_iter):\n",
    "    \"\"\"Runs the K-Means algorithm from a given initialization\n",
    "    \n",
    "    Arguments\n",
    "    xs            2d numpy array of shape (N,D) containing N samples of dimension D\n",
    "    init_centers  2d numpy array of shape (K,D) containing the initial cluster centers\n",
    "    n_iter        Number of iterations of the K-Means algorithm\n",
    "    \n",
    "    Returns\n",
    "    An (K,D) numpy array containing the final cluster centers\n",
    "    \"\"\"\n",
    "    # Your implementation\n",
    "    def distance(a,b):     \n",
    "        return np.sqrt(np.sum((a - b)**2))\n",
    "    \n",
    "    N = xs.shape[0]\n",
    "    K = init_centers.shape[0]\n",
    "    D = init_centers.shape[1]\n",
    "    distance_arr = np.zeros(K)\n",
    "    \n",
    "    #r = 1 if data point X is supposed to belong to cluster k and 0 otherwise.\n",
    "    r = np.zeros((N,K))\n",
    "    \n",
    "    for i in range(0,N):\n",
    "        for j in range(0,K):\n",
    "            distance_arr[j] = distance(xs[i],init_centers[j])\n",
    "        #this xs belongs to cluster with index \"k\"\n",
    "        k = np.where(distance_arr==min(distance_arr))[0][0]\n",
    "        r[i,k] = 1\n",
    "    #calculate new centroids\n",
    "    for k in range(0,K):\n",
    "        cluster_points = np.multiply(xs,r[:,k:k+1])\n",
    "        cluster_points = cluster_points[~np.all(cluster_points == 0, axis=1)] #remove zero rows\n",
    "        init_centers[k] = np.mean(cluster_points, axis= 0)\n",
    "    if n_iter-1 != 0:\n",
    "        my_kmeans(xs, init_centers, n_iter-1)\n",
    "    return init_centers\n",
    "    "
   ]
  },
  {
   "cell_type": "markdown",
   "id": "8fbbdd8d-0316-4eba-9172-e9411bead541",
   "metadata": {},
   "source": [
    "__Task B.2__ Generate test data set and plot it."
   ]
  },
  {
   "cell_type": "code",
   "execution_count": 13,
   "id": "9c0e6ca9-f070-4590-a130-d1b5aef0c736",
   "metadata": {},
   "outputs": [
    {
     "data": {
      "text/plain": [
       "<matplotlib.collections.PathCollection at 0x298a1cef2b0>"
      ]
     },
     "execution_count": 13,
     "metadata": {},
     "output_type": "execute_result"
    },
    {
     "data": {
      "image/png": "[encoded data removed]",
      "text/plain": [
       "<Figure size 432x288 with 1 Axes>"
      ]
     },
     "metadata": {
      "needs_background": "light"
     },
     "output_type": "display_data"
    }
   ],
   "source": [
    "\"\"\"\n",
    "Generate a test data set of 100 points: For each point, independently choose from\n",
    "four 2d normal distributions having means (−2, 2), (−2,−2), (2,−2), (2, 2) and covariance matrices\n",
    "0.2I, 0.2I, 0.5I, 0.5I, respectively, with probabilities 0.3, 0.2, 0.4, 0.1. Plot the data set as a scatter\n",
    "plot.\n",
    "\"\"\"\n",
    "means = [(-2, 2), (-2,-2), (2,-2), (2, 2)]\n",
    "I = np.identity(2)\n",
    "cov = [0.2*I, 0.2*I, 0.5*I, 0.5*I]\n",
    "#number of points to be drawn from each distribution = probability *(total number of data points)\n",
    "n = [30 , 20, 40, 10]\n",
    "# Test data of shape (100,2)\n",
    "xs_cluster_test = np.random.multivariate_normal(means[0],cov[0],n[0])\n",
    "for i in range(1,4):\n",
    "    xs_cluster_test = np.append(xs_cluster_test, np.random.multivariate_normal(means[i],cov[i],n[i]), axis=0)\n",
    "np.random.shuffle(xs_cluster_test)\n",
    "plt.scatter(xs_cluster_test[:,0],xs_cluster_test[:,1])\n",
    "#print(xs_cluster_test.shape)"
   ]
  },
  {
   "cell_type": "markdown",
   "id": "c8583191-6666-4fb1-aa81-4a2994e502c2",
   "metadata": {},
   "source": [
    "__Task B.3__ Run your $K$-Means algorithm on the test data for $K=2,3,4,5$ clusters and plot the final cluster centers."
   ]
  },
  {
   "cell_type": "code",
   "execution_count": 14,
   "id": "f20b50a8-ab79-4808-af16-3f29f4131837",
   "metadata": {},
   "outputs": [
    {
     "data": {
      "image/png": "[encoded data removed]",
      "text/plain": [
       "<Figure size 1008x576 with 4 Axes>"
      ]
     },
     "metadata": {
      "needs_background": "light"
     },
     "output_type": "display_data"
    }
   ],
   "source": [
    "# Use kmeans_plusplus(xs_cluster_test, K, random_state=0) for initialization\n",
    "\"\"\"\n",
    "Run your K-Means implementation on the test data set for K = 2, 3, 4, 5 clusters using 5\n",
    "iterations. For each value of K, plot the final cluster centers together with the data set in a scatter\n",
    "plot.\n",
    "\"\"\"\n",
    "\n",
    "figure, axis = plt.subplots(2, 2)\n",
    "figure.set_size_inches(14, 8)\n",
    "#for K = 2\n",
    "K = 2\n",
    "init_centers, indices = kmeans_plusplus(xs_cluster_test, K, random_state=0)\n",
    "centers = my_kmeans(xs_cluster_test, init_centers, 5)\n",
    "axis[0, 0].scatter(xs_cluster_test[:,0],xs_cluster_test[:,1])\n",
    "axis[0, 0].scatter(centers[:,0],centers[:,1],color=\"r\")\n",
    "axis[0, 0].set_title(\"K = 2\") \n",
    "#for K = 3\n",
    "K = 3\n",
    "init_centers, indices = kmeans_plusplus(xs_cluster_test, K, random_state=0)\n",
    "centers = my_kmeans(xs_cluster_test, init_centers, 5)\n",
    "axis[0, 1].scatter(xs_cluster_test[:,0],xs_cluster_test[:,1])\n",
    "axis[0, 1].scatter(centers[:,0],centers[:,1],color=\"r\")\n",
    "axis[0, 1].set_title(\"K = 3\")\n",
    " \n",
    "#for K = 4\n",
    "K = 4\n",
    "init_centers, indices = kmeans_plusplus(xs_cluster_test, K, random_state=0)\n",
    "centers = my_kmeans(xs_cluster_test, init_centers, 5)\n",
    "axis[1, 0].scatter(xs_cluster_test[:,0],xs_cluster_test[:,1])\n",
    "axis[1, 0].scatter(centers[:,0],centers[:,1],color=\"r\")\n",
    "axis[1, 0].set_title(\"K = 4\")  \n",
    "#for K = 5\n",
    "K = 5\n",
    "init_centers, indices = kmeans_plusplus(xs_cluster_test, K, random_state=0)\n",
    "centers = my_kmeans(xs_cluster_test, init_centers, 5)\n",
    "axis[1, 1].scatter(xs_cluster_test[:,0],xs_cluster_test[:,1])\n",
    "axis[1, 1].scatter(centers[:,0],centers[:,1],color=\"r\")\n",
    "axis[1, 1].set_title(\"K = 5\")  \n",
    "# Combine all the operations and display\n",
    "plt.show()\n"
   ]
  },
  {
   "cell_type": "markdown",
   "id": "664368f6-688f-45ed-8ca2-4c26fe915a67",
   "metadata": {},
   "source": [
    "## Radial Basis Function Network\n",
    "__Task C.1__ Find $K=100$ cluster centers using $K$-Means."
   ]
  },
  {
   "cell_type": "code",
   "execution_count": 15,
   "id": "0fdbd9b8-f444-4546-a703-491d430ca44e",
   "metadata": {},
   "outputs": [],
   "source": [
    "# This 100x21 numpy array should contain the cluster centers\n",
    "#init_centers, indices = kmeans_plusplus(xs_train_std, 100, random_state=0)\n",
    "kmeans = KMeans(n_clusters=100).fit(xs_train_std) #by default uses kmeans++\n",
    "xs_centers = kmeans.cluster_centers_"
   ]
  },
  {
   "cell_type": "markdown",
   "id": "283eb1a9-5e6d-4df6-a653-c4912a2c4046",
   "metadata": {},
   "source": [
    "__Task C.2__ Implement the Gaussian basis functions and transform the data accordingly"
   ]
  },
  {
   "cell_type": "code",
   "execution_count": 16,
   "id": "4829d70b-7276-449d-a801-c151a2d19279",
   "metadata": {},
   "outputs": [],
   "source": [
    "def gauss_basis_function(x, means, variances):\n",
    "    return np.exp(-np.sum(((x[:, np.newaxis]-means)**2), axis=-1) / (2*variances))/np.sqrt(2*np.pi*variances)\n",
    "xs_train_gauss = gauss_basis_function(xs_train_std, xs_centers, 25*25)"
   ]
  },
  {
   "cell_type": "markdown",
   "id": "ee397e68-58af-4936-b70a-ea9f21510483",
   "metadata": {},
   "source": [
    "__Task C.3__ Run simple linear regression on the transformed data and evaluate it on the test set"
   ]
  },
  {
   "cell_type": "code",
   "execution_count": 17,
   "id": "3520a758-68a4-4cc3-8913-0bae0c6ae1aa",
   "metadata": {},
   "outputs": [
    {
     "name": "stdout",
     "output_type": "stream",
     "text": [
      "smse_gauss : [0.04281145]\n"
     ]
    }
   ],
   "source": [
    "# This should contain the resulting predictions on the validation data set\n",
    "Phi_G= np.hstack((np.ones(xs_train_gauss.shape[0]).reshape(xs_train_gauss.shape[0],1),xs_train_gauss)) #adding additional ones for bias term\n",
    "w_gauss = la.solve(Phi_G.T @ Phi_G, Phi_G.T @ ys_train_std)\n",
    "# This variable should contain the predictions using w_gauss on the validation data\n",
    "ys_pred_gauss_valid = gauss_basis_function(xs_valid_std, xs_centers, 25*25)@ w_gauss[1:] + w_gauss[0] # w_gauss[0] is the bias term\n",
    "# This should contain the resulting smse\n",
    "smse_gauss = my_smse(ys_pred_gauss_valid, ys_valid_std, var_ys_train)\n",
    "print(\"smse_gauss :\",smse_gauss) "
   ]
  },
  {
   "cell_type": "markdown",
   "id": "0311c46c-af9b-45a6-8926-0648b4e3a218",
   "metadata": {},
   "source": [
    "__Open task__ Can you improve the performance of the RBF network?"
   ]
  },
  {
   "cell_type": "markdown",
   "id": "79bca2a6-b979-4a10-a14a-9ebea6587f3f",
   "metadata": {
    "tags": []
   },
   "source": [
    "### Open task__ Can you improve the performance of the RBF network?\n",
    "\n",
    "Hyper-parameter tuning : Varying number of cluster centers and standard deviation"
   ]
  },
  {
   "cell_type": "code",
   "execution_count": 18,
   "id": "23a906d0-276c-46ec-a2ba-ed84c9a64c6a",
   "metadata": {},
   "outputs": [
    {
     "data": {
      "image/png": "[encoded data removed]",
      "text/plain": [
       "<IPython.core.display.Image object>"
      ]
     },
     "metadata": {},
     "output_type": "display_data"
    },
    {
     "data": {
      "text/plain": [
       "'\\n#varying standard deviation \\nn=200\\nsmse_arr3=[]\\nfor std in range(22,27,1):\\n    kmeans = KMeans(n_clusters=n).fit(xs_train_std)\\n    xs_centers = kmeans.cluster_centers_\\n    xs_train_gauss = gauss_basis_function(xs_train_std, xs_centers, std*std)\\n    Phi= np.hstack((np.ones(xs_train_gauss.shape[0]).reshape(xs_train_gauss.shape[0],1),xs_train_gauss))\\n    w_gauss = la.solve(Phi.T @ Phi, Phi.T @ ys_train_std)\\n    ys_pred_gauss_valid = gauss_basis_function(xs_valid_std, xs_centers, 25*25)@ w_gauss[1:] + w_gauss[0]\\n    smse_gauss = my_smse(ys_pred_gauss_valid, ys_valid_std, var_ys_train)\\n    smse_arr3= np.append(smse_arr3,smse_gauss)\\n    print(n , std , smse_gauss)\\n'"
      ]
     },
     "execution_count": 18,
     "metadata": {},
     "output_type": "execute_result"
    }
   ],
   "source": [
    "#below code takes a good amount of time to run hence commented out , the resulting graph was saved and displayed\n",
    "#findins smse for 100 to 1000 Gaussians Basis functions with steps of 100\n",
    "\"\"\"\n",
    "smse_arr=[]\n",
    "for n in range(100,1000,100):\n",
    "    kmeans = KMeans(n_clusters=n).fit(xs_train_std)\n",
    "    xs_centers = kmeans.cluster_centers_\n",
    "    xs_train_gauss = gauss_basis_function(xs_train_std, xs_centers, 25*25)\n",
    "    Phi= np.hstack((np.ones(xs_train_gauss.shape[0]).reshape(xs_train_gauss.shape[0],1),xs_train_gauss))\n",
    "    w_gauss = la.solve(Phi.T @ Phi, Phi.T @ ys_train_std)\n",
    "    ys_pred_gauss_valid = gauss_basis_function(xs_valid_std, xs_centers, 25*25)@ w_gauss[1:] + w_gauss[0]\n",
    "    smse_gauss = my_smse(ys_pred_gauss_valid, ys_valid_std, var_ys_train)\n",
    "    smse_arr= np.append(smse_arr,smse_gauss)\n",
    "    print(smse_gauss) \n",
    "\"\"\"\n",
    "#findins smse for 100 to 300 Gaussians Basis functions with steps of 10\n",
    "\"\"\"\n",
    "smse_arr2=[]\n",
    "for n in range(100,300,10):\n",
    "    kmeans = KMeans(n_clusters=n).fit(xs_train_std)\n",
    "    xs_centers = kmeans.cluster_centers_\n",
    "    xs_train_gauss = gauss_basis_function(xs_train_std, xs_centers, 25*25)\n",
    "    Phi= np.hstack((np.ones(xs_train_gauss.shape[0]).reshape(xs_train_gauss.shape[0],1),xs_train_gauss))\n",
    "    w_gauss = la.solve(Phi.T @ Phi, Phi.T @ ys_train_std)\n",
    "    ys_pred_gauss_valid = gauss_basis_function(xs_valid_std, xs_centers, 25*25)@ w_gauss[1:] + w_gauss[0]\n",
    "    smse_gauss = my_smse(ys_pred_gauss_valid, ys_valid_std, var_ys_train)\n",
    "    smse_arr2= np.append(smse_arr2,smse_gauss)\n",
    "    print(smse_gauss) \n",
    "\"\"\"\n",
    "\"\"\"\n",
    "n = np.arange(100, 1000,100).reshape((9,1))[0:4]\n",
    "n2 = np.arange(100,300,10).reshape((20,1))\n",
    "n = np.append(n,n2,axis =0)\n",
    "#smse_arr = smse_arr.reshape((9,1))\n",
    "#smse_arr2 = smse_arr2.reshape((20,1))\n",
    "smse_arr = np.append(smse_arr[0:4],smse_arr2,axis =0)\n",
    "P = np.append(n,smse_arr,axis =1)\n",
    "plt.scatter(P[:,0],P[:,1])\n",
    "plt.xlabel(\"number of clusters\")\n",
    "plt.ylabel(\"SMSE\")\n",
    "plt.savefig('clusteropt.png')\n",
    "\"\"\"\n",
    "from IPython.display import Image\n",
    "display(Image(filename='clusteropt.png'))\n",
    "\"\"\"\n",
    "#varying standard deviation \n",
    "n=200\n",
    "smse_arr3=[]\n",
    "for std in range(22,27,1):\n",
    "    kmeans = KMeans(n_clusters=n).fit(xs_train_std)\n",
    "    xs_centers = kmeans.cluster_centers_\n",
    "    xs_train_gauss = gauss_basis_function(xs_train_std, xs_centers, std*std)\n",
    "    Phi= np.hstack((np.ones(xs_train_gauss.shape[0]).reshape(xs_train_gauss.shape[0],1),xs_train_gauss))\n",
    "    w_gauss = la.solve(Phi.T @ Phi, Phi.T @ ys_train_std)\n",
    "    ys_pred_gauss_valid = gauss_basis_function(xs_valid_std, xs_centers, 25*25)@ w_gauss[1:] + w_gauss[0]\n",
    "    smse_gauss = my_smse(ys_pred_gauss_valid, ys_valid_std, var_ys_train)\n",
    "    smse_arr3= np.append(smse_arr3,smse_gauss)\n",
    "    print(n , std , smse_gauss)\n",
    "\"\"\"\n",
    "#best results were found for n = 200 clusters and standard deviation = 25 "
   ]
  },
  {
   "cell_type": "markdown",
   "id": "ff7798bc-f4e5-40e3-84d6-549f13bb8cda",
   "metadata": {
    "tags": []
   },
   "source": [
    "#### Ridge and Lasso Regularization"
   ]
  },
  {
   "cell_type": "code",
   "execution_count": 19,
   "id": "89c188fa-eb02-4224-93cf-562fe542ab9c",
   "metadata": {},
   "outputs": [
    {
     "name": "stdout",
     "output_type": "stream",
     "text": [
      "smse for Ridge :  [0.8476456]\n",
      "smse for Lasso :  [0.9999719]\n"
     ]
    }
   ],
   "source": [
    "from sklearn.linear_model import Ridge,Lasso\n",
    "xs_valid_gauss = gauss_basis_function(xs_valid_std, xs_centers, 25*25)\n",
    "model_ridge = Ridge(alpha=0.1, fit_intercept=False)\n",
    "model_ridge.fit(xs_train_gauss, ys_train_std)\n",
    "\n",
    "ys_pred_valid_gauss = model_ridge.predict(xs_valid_gauss)\n",
    "\n",
    "smse_gauss_ridge = my_smse(ys_pred_valid_gauss, ys_valid_std, var_ys_train)\n",
    "print(\"smse for Ridge : \", smse_gauss_ridge)\n",
    "\n",
    "model_Lasso = Lasso(alpha=0.1, fit_intercept=False)\n",
    "model_Lasso.fit(xs_train_gauss, ys_train_std)\n",
    "\n",
    "ys_pred_valid_gauss = model_Lasso.predict(xs_valid_gauss)\n",
    "\n",
    "smse_gauss_Lasso = my_smse(ys_pred_valid_gauss, ys_valid_std, var_ys_train)\n",
    "print(\"smse for Lasso : \",smse_gauss_Lasso)\n",
    "\n",
    "# regularizations were carried out for multiple values of ´alpha´ and it is observed that it increases the smse, this could imply that there is no overfitting present in the model\n",
    "# best results were obtained without any regularization"
   ]
  },
  {
   "cell_type": "markdown",
   "id": "0682efbc-918e-4691-bcd6-429d7aab0588",
   "metadata": {},
   "source": [
    "#### Training for 200 cluster centers"
   ]
  },
  {
   "cell_type": "code",
   "execution_count": 20,
   "id": "a965743b-e486-40bb-a157-59f214b94e16",
   "metadata": {},
   "outputs": [
    {
     "name": "stdout",
     "output_type": "stream",
     "text": [
      "smse_gauss_improved : [0.03541261]\n"
     ]
    }
   ],
   "source": [
    "kmeans = KMeans(n_clusters=200).fit(xs_train_std) #by default uses kmeans++\n",
    "xs_centers2 = kmeans.cluster_centers_\n",
    "xs_train_gauss_improved = gauss_basis_function(xs_train_std, xs_centers2, 25*25)\n",
    "Phi_G2= np.hstack((np.ones(xs_train_gauss_improved.shape[0]).reshape(xs_train_gauss_improved.shape[0],1),xs_train_gauss_improved))\n",
    "w_gauss_improved = la.solve(Phi_G2.T @ Phi_G2, Phi_G2.T @ ys_train_std)\n",
    "# This variable should contain the predictions using w_gauss on the validation data\n",
    "ys_pred_gauss_valid = gauss_basis_function(xs_valid_std, xs_centers2, 25*25)@ w_gauss_improved[1:] + w_gauss_improved[0]\n",
    "# This should contain the resulting smse\n",
    "smse_gauss_improved = my_smse(ys_pred_gauss_valid, ys_valid_std, var_ys_train)\n",
    "print(\"smse_gauss_improved :\",smse_gauss_improved) "
   ]
  },
  {
   "cell_type": "markdown",
   "id": "c09de3df-9eea-4b34-a8ae-55533419d792",
   "metadata": {},
   "source": [
    "### Test"
   ]
  },
  {
   "cell_type": "markdown",
   "id": "88494109-c341-4eb4-ac34-364724bce436",
   "metadata": {},
   "source": [
    "__Task C.4__ Evaluate your final model (either the one from Task C.3 or your improved model from the open task) on the test data"
   ]
  },
  {
   "cell_type": "code",
   "execution_count": 21,
   "id": "a35eda50-ec10-453d-952a-82c73dfd2b0e",
   "metadata": {},
   "outputs": [
    {
     "name": "stdout",
     "output_type": "stream",
     "text": [
      "smse_test :  [0.03528887]\n"
     ]
    }
   ],
   "source": [
    "# This should contain the predictions on the test data set\n",
    "ys_pred_gauss_test = gauss_basis_function(xs_test_std, xs_centers2, 25*25)@ w_gauss_improved[1:] + w_gauss_improved[0]\n",
    "\n",
    "# This should contain the resulting SMSE on the test data\n",
    "smse_test = my_smse(ys_pred_gauss_test, ys_test_std, var_ys_train)\n",
    "print(\"smse_test : \",smse_test)"
   ]
  },
  {
   "cell_type": "markdown",
   "id": "09d0b947-5574-4364-9f41-c6666d39ae2c",
   "metadata": {},
   "source": [
    "### Submitted by :\n",
    "\n",
    "Group 20\n",
    "\n",
    "Allwin Lucious\n",
    "\n",
    "Nikhil Jayanth\n",
    "\n",
    "Kiran Sreekumar\n",
    "\n",
    "Aishwarya Bose"
   ]
  }
 ],
 "metadata": {
  "kernelspec": {
   "display_name": "Python 3 (ipykernel)",
   "language": "python",
   "name": "python3"
  },
  "language_info": {
   "codemirror_mode": {
    "name": "ipython",
    "version": 3
   },
   "file_extension": ".py",
   "mimetype": "text/x-python",
   "name": "python",
   "nbconvert_exporter": "python",
   "pygments_lexer": "ipython3",
   "version": "3.9.7"
  }
 },
 "nbformat": 4,
 "nbformat_minor": 5
}
